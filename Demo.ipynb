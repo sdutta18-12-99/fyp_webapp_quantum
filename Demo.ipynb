{
 "cells": [
  {
   "cell_type": "code",
   "execution_count": 119,
   "id": "binding-glance",
   "metadata": {},
   "outputs": [],
   "source": [
    "import warnings\n",
    "warnings.filterwarnings('ignore')\n",
    "import time\n",
    "import ipywidgets as widgets\n",
    "from IPython.display import display, clear_output"
   ]
  },
  {
   "cell_type": "code",
   "execution_count": 98,
   "id": "informal-powell",
   "metadata": {},
   "outputs": [
    {
     "name": "stdout",
     "output_type": "stream",
     "text": [
      "Enabling notebook extension jupyter-js-widgets/extension...\n",
      "      - Validating: \u001b[32mOK\u001b[0m\n",
      "Enabling: voila\n",
      "- Writing config: /Applications/miniconda3/envs/env1_fyp/etc/jupyter\n",
      "    - Validating...\n",
      "      voila 0.3.5 \u001b[32mOK\u001b[0m\n"
     ]
    }
   ],
   "source": [
    "#!jupyter nbextension enable --py widgetsnbextension --sys-prefix\n",
    "#!jupyter serverextension enable voila --sys-prefix"
   ]
  },
  {
   "cell_type": "code",
   "execution_count": 120,
   "id": "c39675c0",
   "metadata": {},
   "outputs": [
    {
     "name": "stdout",
     "output_type": "stream",
     "text": [
      "Imports Successful\n"
     ]
    }
   ],
   "source": [
    "from qiskit import QuantumCircuit, Aer, assemble, transpile\n",
    "from qiskit.visualization import plot_histogram, plot_bloch_multivector\n",
    "from math import sqrt, pi\n",
    "from numpy.random import randint\n",
    "import numpy as np\n",
    "print(\"Imports Successful\")"
   ]
  },
  {
   "cell_type": "code",
   "execution_count": 121,
   "id": "a6bd4f8c",
   "metadata": {},
   "outputs": [],
   "source": [
    "N = 0\n",
    "ciphertext = \"\"\n",
    "alice_bases = \"\"\n",
    "bob_bases = \"\"\n",
    "eve_bases = \"\"\n",
    "eve_message = \"\"\n",
    "measured_message = \"\"\n",
    "clean_results = \"\"\n",
    "alice_same_bases = \"\"\n",
    "bob_same_bases = \"\"\n",
    "alice_key = []\n",
    "bob_key = []"
   ]
  },
  {
   "cell_type": "code",
   "execution_count": 124,
   "id": "082828c5",
   "metadata": {},
   "outputs": [],
   "source": [
    "#Now we are going to code the encoding function. This is the server which is going to entangle the qubits.\n",
    "def encode_bits(number_of_bits): #The parameter denotes the number of bits that need to be used\n",
    "    ciphertext = []\n",
    "    for i in range(number_of_bits):\n",
    "        quantum_circuit = QuantumCircuit(2, 4)\n",
    "        quantum_circuit.h(0)\n",
    "        quantum_circuit.cx(0, 1)\n",
    "        quantum_circuit.barrier()\n",
    "        ciphertext.append(quantum_circuit)\n",
    "    return ciphertext"
   ]
  },
  {
   "cell_type": "code",
   "execution_count": 127,
   "id": "e9cf835e",
   "metadata": {},
   "outputs": [],
   "source": [
    "def decode_qubits(ciphertext, bases1, bases2):\n",
    "    sim = Aer.get_backend('aer_simulator')\n",
    "    message = []\n",
    "    for i in range(len(bases1)):\n",
    "        if bases1[i] == 0: #Measurement in the z-axis\n",
    "            ciphertext[i].measure(0, 0)\n",
    "        else: #Measurement in the x-axis\n",
    "            ciphertext[i].h(0)\n",
    "            ciphertext[i].measure(0, 0)\n",
    "        if bases2[i] == 0: #Measurement in the z-axis\n",
    "            ciphertext[i].measure(1, 1)\n",
    "        else: #Measurement in the x-axis\n",
    "            ciphertext[i].h(1)\n",
    "            ciphertext[i].measure(1, 1)\n",
    "        qobj = assemble(ciphertext[i])\n",
    "        result = sim.run(qobj).result()\n",
    "        message.append(list(result.get_counts(ciphertext[i]).keys())[0])\n",
    "    return message"
   ]
  },
  {
   "cell_type": "code",
   "execution_count": 128,
   "id": "1cc24364",
   "metadata": {},
   "outputs": [],
   "source": [
    "def interception(ciphertext, bases):\n",
    "    message = []\n",
    "    sim_1 = Aer.get_backend('aer_simulator')\n",
    "    for i in range(len(bases)):\n",
    "        if bases[i] == 0:\n",
    "            ciphertext[i].measure(0, 2)\n",
    "        else:\n",
    "            ciphertext[i].h(0)\n",
    "            ciphertext[i].measure(0, 2)\n",
    "        qobj = assemble(ciphertext[i])\n",
    "        result = sim_1.run(qobj).result()\n",
    "        message.append(list(result.get_counts(ciphertext[i]).keys())[0])\n",
    "    return message"
   ]
  },
  {
   "cell_type": "code",
   "execution_count": 129,
   "id": "bd7a6152",
   "metadata": {},
   "outputs": [],
   "source": [
    "def remove_garbage(a_bases, b_bases, bits):\n",
    "    alice_same_bases = []\n",
    "    bob_same_bases = []\n",
    "    new_bits = []\n",
    "    for i in range(len(b_bases)):\n",
    "        if a_bases[i] == b_bases[i]:\n",
    "            alice_same_bases.append(a_bases[i])\n",
    "            bob_same_bases.append(b_bases[i])\n",
    "            new_bits.append(bits[i])\n",
    "        else:\n",
    "            pass\n",
    "    return new_bits, alice_same_bases, bob_same_bases"
   ]
  },
  {
   "cell_type": "code",
   "execution_count": 130,
   "id": "reflected-speaker",
   "metadata": {},
   "outputs": [],
   "source": [
    "# Image Widget\n",
    "\n",
    "file = open(\"System.jpg\", \"rb\")\n",
    "image = file.read()\n",
    "\n",
    "image_headline = widgets.Image(\n",
    "                    value=image,\n",
    "                    format='jpg',\n",
    "                    width='500',\n",
    "                    height = '500',\n",
    "                    align = 'center'\n",
    "                )\n",
    "\n",
    "label_headline = widgets.Label(\n",
    "                    value='Photo by CDC on Unsplash',\n",
    "                    style={'description_width': 'initial'}\n",
    "                )\n",
    "\n",
    "vbox_headline = widgets.VBox([image_headline, label_headline])"
   ]
  },
  {
   "cell_type": "code",
   "execution_count": 131,
   "id": "reverse-belfast",
   "metadata": {},
   "outputs": [],
   "source": [
    "grand_val = widgets.ToggleButtons(\n",
    "            options=['Without Interception', 'With Interception']\n",
    "        )\n",
    "#widgets.HBox([widgets.Label('Toggle between simulation with interception and simulation without interception:'), grand_val])"
   ]
  },
  {
   "cell_type": "code",
   "execution_count": 5,
   "id": "bearing-lover",
   "metadata": {},
   "outputs": [],
   "source": []
  },
  {
   "cell_type": "code",
   "execution_count": 6,
   "id": "headed-bloom",
   "metadata": {},
   "outputs": [],
   "source": []
  },
  {
   "cell_type": "code",
   "execution_count": 132,
   "id": "naval-night",
   "metadata": {},
   "outputs": [],
   "source": [
    "# number of friends\n",
    "\n",
    "N = widgets.IntSlider(\n",
    "            value=3, # default value\n",
    "            min=0, \n",
    "            max=500,\n",
    "            step=1,\n",
    "            style={'description_width': 'initial', 'handle_color': '#16a085'} \n",
    "        )\n",
    "#widgets.HBox([widgets.Label('Select the number of bits for encoding: '), N])"
   ]
  },
  {
   "cell_type": "code",
   "execution_count": 133,
   "id": "thorough-royal",
   "metadata": {},
   "outputs": [],
   "source": [
    "# button send\n",
    "\n",
    "button_start_simulation = widgets.Button(\n",
    "                description='start_simulation',\n",
    "                tooltip='Start Simulation',\n",
    "                style={'description_width': 'initial'}\n",
    "            )\n",
    "output = widgets.Output()\n",
    "\n",
    "def start_simulation_event(event):\n",
    "    with output:\n",
    "        clear_output()\n",
    "        print(\"The simulation has started.\")\n",
    "        time.sleep(2)\n",
    "        if grand_val.value == \"Without Interception\":\n",
    "            np.random.seed(seed = 0)\n",
    "            print(\"Generating Random Bases for Alice: \")\n",
    "            alice_bases = randint(2, size = N.value)\n",
    "            print(alice_bases)\n",
    "            time.sleep(2)\n",
    "            print(\"Generating Random Bases for Bob: \")\n",
    "            bob_bases = randint(2, size = N.value)\n",
    "            print(bob_bases)\n",
    "            print(\"Now the central server will entangle qubits and send to Alice and Bob: \")\n",
    "            ciphertext = encode_bits(N.value)\n",
    "            time.sleep(2)\n",
    "            print(\"Now Alice and Bob will measure their respective qubits.\")\n",
    "            measured_message = decode_qubits(ciphertext, alice_bases, bob_bases)\n",
    "            time.sleep(2)\n",
    "            print(\"Now Alice and Bob will publicly declare their measurement bases for the other person to clean their output: \")\n",
    "            print(\"Alice Bases: \", alice_bases)\n",
    "            print(\"Bob Bases: \", bob_bases)\n",
    "            time.sleep(2)\n",
    "            clean_results, alice_same_bases, bob_same_bases = remove_garbage(alice_bases, bob_bases, measured_message)\n",
    "            print(\"Now Alice and Bob will each print a part of their keys and check if anyone has been eavesdropping.\")\n",
    "            print(clean_results[:30])\n",
    "            print(\"Alice's Bases: \", alice_same_bases[:30])\n",
    "            print(\"Bob's Bases: \", bob_same_bases[:30])\n",
    "            #ans = input(\"Generate Keys for Alice and Bob ? (y/n)\")\n",
    "            alice_key = []\n",
    "            bob_key = []\n",
    "            for measurement in clean_results:\n",
    "                alice_key.append(measurement[3])\n",
    "                bob_key.append(measurement[2])\n",
    "            alice_key = \"\".join(alice_key)\n",
    "            bob_key = \"\".join(bob_key)\n",
    "            print(alice_key)\n",
    "            print(bob_key)\n",
    "            print(\"This is the end of the simulation.\")\n",
    "        else:\n",
    "            np.random.seed(seed = 0)\n",
    "            print(\"Generating Random Bases for Alice: \")\n",
    "            alice_bases = randint(2, size = N.value)\n",
    "            time.sleep(2)\n",
    "            print(alice_bases)\n",
    "            print(\"Generating Random Bases for Bob: \")\n",
    "            bob_bases = randint(2, size = N.value)\n",
    "            time.sleep(2)\n",
    "            print(bob_bases)\n",
    "            print(\"Generating Random Bases for Eve: \")\n",
    "            eve_bases = randint(2, size = N.value)\n",
    "            time.sleep(2)\n",
    "            print(eve_bases)\n",
    "            print(\"Now the central server will entangle qubits and send to Alice and Bob: \")\n",
    "            ciphertext = encode_bits(N.value)\n",
    "            time.sleep(2)\n",
    "            print(\"However, Eve intercepts the entangled qubit which was supposed to be send to Bob\")\n",
    "            print(\"To get an output, she measures the entangled qubit, effectively breaking the entanglement.\")\n",
    "            eve_measurement = interception(ciphertext, eve_bases)\n",
    "            print(\"Now Alice and Bob will measure their respective qubits.\")\n",
    "            measured_message = decode_qubits(ciphertext, alice_bases, bob_bases)\n",
    "            time.sleep(2)\n",
    "            print(\"Now Alice and Bob will publicly declare their measurement bases for the other person to clean their output: \")\n",
    "            print(\"Alice Bases: \", alice_bases)\n",
    "            print(\"Bob Bases: \", bob_bases)\n",
    "            time.sleep(2)\n",
    "            clean_results, alice_same_bases, bob_same_bases = remove_garbage(alice_bases, bob_bases, measured_message)\n",
    "            print(\"Now Alice and Bob will each print a part of their keys and check if anyone has been eavesdropping.\")\n",
    "            print(clean_results[:30])\n",
    "            print(\"Alice's Bases: \", alice_same_bases[:30])\n",
    "            print(\"Bob's Bases: \", bob_same_bases[:30])\n",
    "            #ans = input(\"Generate Keys for Alice and Bob ? (y/n)\")\n",
    "            alice_key = []\n",
    "            bob_key = []\n",
    "            for measurement in clean_results:\n",
    "                alice_key.append(measurement[3])\n",
    "                bob_key.append(measurement[2])\n",
    "            alice_key = \"\".join(alice_key)\n",
    "            bob_key = \"\".join(bob_key)\n",
    "            print(alice_key)\n",
    "            print(bob_key)\n",
    "            print(\"This is the end of the simulation.\")\n",
    "            \n",
    "        #print(\"Sent message: \")\n",
    "        #print(f\"Dear Grandma! This is your favourite {grand.value}, {name.value}.\")\n",
    "        #print(f\"I would love to come over on {date.value} for dinner, if that's okay for you!\")\n",
    "        #print(f\"Also, if you don't mind, I'll bring along {friends.value} hungry ghosts for your delicious food!\")\n",
    "\n",
    "        \n",
    "button_start_simulation.on_click(start_simulation_event)\n",
    "vbox_result = widgets.VBox([button_start_simulation, output])"
   ]
  },
  {
   "cell_type": "code",
   "execution_count": 134,
   "id": "guilty-ending",
   "metadata": {},
   "outputs": [],
   "source": [
    "# stacked right hand side\n",
    "\n",
    "text_0 = widgets.HTML(value=\"<h1>Quantum Computing for Secured Communication!</h1>\")\n",
    "text_1 = widgets.HTML(value=\"<h2>Choose the number of bits for encoding of bits: </h2>\")\n",
    "text_2= widgets.HTML(value=\"<h2>Choose if you want to see the simulation with Interception or without Interception: </h2>\")\n",
    "text_3= widgets.HTML(value=\"<h2>Press the button below to start the simulation: </h2>\")\n",
    "text_4= widgets.HTML(value=\"<h2>Also, if you don't mind, I'll bring along </h2>\")\n",
    "text_5= widgets.HTML(value=\"<h2>hungry ghosts for dinner, if that's okay for you!</h2>\")\n",
    "\n",
    "vbox_text = widgets.VBox([text_0, text_1, N,text_2, grand_val,text_3,  vbox_result])"
   ]
  },
  {
   "cell_type": "code",
   "execution_count": null,
   "id": "5df4ae81",
   "metadata": {},
   "outputs": [],
   "source": []
  },
  {
   "cell_type": "code",
   "execution_count": 116,
   "id": "earlier-saturday",
   "metadata": {},
   "outputs": [
    {
     "data": {
      "application/vnd.jupyter.widget-view+json": {
       "model_id": "119d7496c54344748d65079befc0291e",
       "version_major": 2,
       "version_minor": 0
      },
      "text/plain": [
       "VBox(children=(VBox(children=(Image(value=b'\\xff\\xd8\\xff\\xe0\\x00\\x10JFIF\\x00\\x01\\x01\\x00\\x00\\x90\\x00\\x90\\x00\\x…"
      ]
     },
     "metadata": {},
     "output_type": "display_data"
    }
   ],
   "source": [
    "page = widgets.VBox([vbox_headline, vbox_text])\n",
    "display(page)"
   ]
  },
  {
   "cell_type": "code",
   "execution_count": 135,
   "id": "according-supervisor",
   "metadata": {},
   "outputs": [],
   "source": [
    "!pip freeze > requirements.txt"
   ]
  }
 ],
 "metadata": {
  "kernelspec": {
   "display_name": "Python 3 (ipykernel)",
   "language": "python",
   "name": "python3"
  },
  "language_info": {
   "codemirror_mode": {
    "name": "ipython",
    "version": 3
   },
   "file_extension": ".py",
   "mimetype": "text/x-python",
   "name": "python",
   "nbconvert_exporter": "python",
   "pygments_lexer": "ipython3",
   "version": "3.9.7"
  }
 },
 "nbformat": 4,
 "nbformat_minor": 5
}
